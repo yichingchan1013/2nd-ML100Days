{
 "cells": [
  {
   "cell_type": "markdown",
   "metadata": {},
   "source": [
    "# 作業1：\n",
    "\n",
    "競賽題目：[Two Sigma: Using News to Predict Stock Movements - use news analytics to predict stock price performance](https://www.kaggle.com/c/two-sigma-financial-news/overview)\n",
    "\n",
    "資料：市場資料(2007-) & 新聞資料(2007-)\n",
    "\n",
    "1. 你選的這組資料為何重要？\n",
    "    股價的表現對資本市場有重大影響，會影響投資人和企業的經營狀況。\n",
    "\n",
    "2. 資料從何而來？(tips: 譬如提供者是誰、以什麼方式蒐集)\n",
    "    市場資料是由Intrinio公司提供。新聞資料是由路透社提供。\n",
    "\n",
    "3. 蒐集而來的資料型態為何？\n",
    "    市場資料：結構化資料，表格的欄位項目有數值、類型。新聞資料：結構化資料，已經整理成表格，欄位項目包含數值、類型、字串等。\n",
    "\n",
    "4. 這組資料想解決的問題如何評估？\n",
    "   題目是要從新聞資料去預測股價的漲跌。評估的指標是預測的精準度。"
   ]
  },
  {
   "cell_type": "markdown",
   "metadata": {},
   "source": [
    "# 作業2：\n",
    "\n",
    "想像你經營一個自由載客車隊，你希望能透過數據分析以**提升業績**，請你思考並描述你如何規劃整體的分析/解決方案：\n",
    "\n",
    "1. 核心問題為何？ (tips：如何定義 「提升業績 & 你的假設」)\n",
    "目標是提升總營收。總營收=載客數x載客時間X營運時間。\n",
    "    - 載客數增加：增加尖峰時間的載客數、在乘車需求高的地點等待\n",
    "    - 載客時間增加：增加長途搭乘的乘客數\n",
    "    - 營運時間增加：司機的開車時間增長\n",
    "    \n",
    "\n",
    "2. 資料從何而來？(tips：哪些資料可能會對你想問的問題產生影響 & 資料如何蒐集)\n",
    "    如果可以像uber系統一樣，自動搜集司機的歷史載客路徑、載客時間、道路離尖峰時段、乘客個人資訊（過去乘車時間、地點）、其他替代交通運輸的資料等\n",
    "\n",
    "\n",
    "3. 蒐集而來的資料型態為何？\n",
    "    如果是由單一平台搜集整理，可能可以是結構性資料\n",
    "\n",
    "\n",
    "4. 你要回答的問題，其如何評估？ (tips：你的假設如何驗證)\n",
    "    - 載客數：看尖峰時間的載客數、看固定高需求的乘車地點載客數\n",
    "    - 載客時間增加：看乘車時間的分佈有無增加\n",
    "    - 營運時間增加：看司機的開車時間\n",
    "\n"
   ]
  },
  {
   "cell_type": "markdown",
   "metadata": {},
   "source": [
    "# 作業3: 統計指標實作範例\n",
    "### 常見於迴歸問題的評估指標\n",
    "* Mean Absolute Error (MAE)\n",
    "* Mean Squared Error (MSE)\n",
    "\n",
    "### 常見於分類問題的指標\n",
    "* Binary Cross Entropy (CE)\n",
    "\n",
    "##### 後面的課程還會有更詳細的說明"
   ]
  },
  {
   "cell_type": "code",
   "execution_count": 3,
   "metadata": {},
   "outputs": [],
   "source": [
    "import numpy as np\n",
    "import matplotlib.pyplot as plt"
   ]
  },
  {
   "cell_type": "code",
   "execution_count": 6,
   "metadata": {},
   "outputs": [
    {
     "data": {
      "image/png": "[encoded data removed]",
      "text/plain": [
       "<Figure size 432x288 with 1 Axes>"
      ]
     },
     "metadata": {
      "needs_background": "light"
     },
     "output_type": "display_data"
    }
   ],
   "source": [
    "w = 3\n",
    "b = 0.5\n",
    "\n",
    "x_lin = np.linspace(0, 100, 101) #切割(stary, end, num=101) Return evenly spaced numbers over a specified interval\n",
    "\n",
    "y = (x_lin + np.random.randn(101) * 5) * w + b\n",
    "\n",
    "plt.plot(x_lin, y, 'b.', label = 'data points')\n",
    "plt.title(\"Assume we have data points\")\n",
    "plt.legend(loc = 2)\n",
    "plt.show()"
   ]
  },
  {
   "cell_type": "code",
   "execution_count": 13,
   "metadata": {},
   "outputs": [
    {
     "data": {
      "image/png": "[encoded data removed]",
      "text/plain": [
       "<Figure size 432x288 with 1 Axes>"
      ]
     },
     "metadata": {
      "needs_background": "light"
     },
     "output_type": "display_data"
    }
   ],
   "source": [
    "y_hat = x_lin * w + b\n",
    "plt.plot(x_lin, y, 'b.', label = 'data')\n",
    "plt.plot(x_lin, y_hat, 'r-', label = 'prediction')\n",
    "plt.title(\"Assume we have data points (And the prediction)\")\n",
    "plt.legend(loc = 2)\n",
    "plt.show()"
   ]
  },
  {
   "cell_type": "code",
   "execution_count": 14,
   "metadata": {},
   "outputs": [
    {
     "name": "stdout",
     "output_type": "stream",
     "text": [
      "The Mean absolute error is 12.192\n"
     ]
    }
   ],
   "source": [
    "def mean_absolute_error(y, yp):\n",
    "    \"\"\"\n",
    "    計算 MAE\n",
    "    Args:\n",
    "        - y: 實際值\n",
    "        - yp: 預測值\n",
    "    Return:\n",
    "        - mae: MAE\n",
    "    \"\"\"\n",
    "    mae = MAE = sum(abs(y - yp)) / len(y)\n",
    "    return mae\n",
    "\n",
    "MAE = mean_absolute_error(y, y_hat)\n",
    "print(\"The Mean absolute error is %.3f\" % (MAE))"
   ]
  },
  {
   "cell_type": "markdown",
   "metadata": {},
   "source": [
    "### 練習時間\n",
    "#### 請寫一個函式用來計算 Mean Square Error\n",
    "$ MSE = \\frac{1}{n}\\sum_{i=1}^{n}{(Y_i - \\hat{Y}_i)^2} $\n",
    "\n",
    "### Hint: [如何取平方](https://googoodesign.gitbooks.io/-ezpython/unit-1.html)"
   ]
  },
  {
   "cell_type": "code",
   "execution_count": 15,
   "metadata": {},
   "outputs": [
    {
     "name": "stdout",
     "output_type": "stream",
     "text": [
      "The Mean square error is 229.275\n"
     ]
    }
   ],
   "source": [
    "def mean_square_error(y, yp):\n",
    "    mse = sum((y - yp)**2) / len(y)\n",
    "    return mse\n",
    "    \n",
    "MSE = mean_square_error(y, y_hat)\n",
    "print(\"The Mean square error is %.3f\" % (MSE))"
   ]
  },
  {
   "cell_type": "code",
   "execution_count": null,
   "metadata": {},
   "outputs": [],
   "source": []
  }
 ],
 "metadata": {
  "kernelspec": {
   "display_name": "Python 3",
   "language": "python",
   "name": "python3"
  },
  "language_info": {
   "codemirror_mode": {
    "name": "ipython",
    "version": 3
   },
   "file_extension": ".py",
   "mimetype": "text/x-python",
   "name": "python",
   "nbconvert_exporter": "python",
   "pygments_lexer": "ipython3",
   "version": "3.7.3"
  }
 },
 "nbformat": 4,
 "nbformat_minor": 2
}
